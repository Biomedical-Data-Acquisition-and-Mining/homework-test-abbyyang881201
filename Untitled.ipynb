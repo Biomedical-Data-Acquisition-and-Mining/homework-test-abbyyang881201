{
 "cells": [
  {
   "cell_type": "code",
   "execution_count": 1,
   "metadata": {},
   "outputs": [],
   "source": [
    "import pandas as pd"
   ]
  },
  {
   "cell_type": "code",
   "execution_count": 7,
   "metadata": {},
   "outputs": [],
   "source": [
    "data = {'Name':[\"amanda\",\"abby\",\"cindy\",\"frank\"],\n",
    "     'Location':[\"New york\",\"Taiwan\",\"Paris\",\"London\"],\n",
    "     'Age':[20,30,15,18]}\n",
    "data_pandas=pd.DataFrame(data)"
   ]
  },
  {
   "cell_type": "code",
   "execution_count": 8,
   "metadata": {},
   "outputs": [
    {
     "name": "stdout",
     "output_type": "stream",
     "text": [
      "data:\n",
      " {'Name': ['amanda', 'abby', 'cindy', 'frank'], 'Location': ['New york', 'Taiwan', 'Paris', 'London'], 'Age': [20, 30, 15, 18]}\n",
      "data_pandas:\n",
      "      Name  Location  Age\n",
      "0  amanda  New york   20\n",
      "1    abby    Taiwan   30\n",
      "2   cindy     Paris   15\n",
      "3   frank    London   18\n"
     ]
    }
   ],
   "source": [
    "print(\"data:\\n\",data)\n",
    "print(\"data_pandas:\\n\",data_pandas)"
   ]
  },
  {
   "cell_type": "code",
   "execution_count": null,
   "metadata": {},
   "outputs": [],
   "source": []
  }
 ],
 "metadata": {
  "kernelspec": {
   "display_name": "Python 3",
   "language": "python",
   "name": "python3"
  },
  "language_info": {
   "codemirror_mode": {
    "name": "ipython",
    "version": 3
   },
   "file_extension": ".py",
   "mimetype": "text/x-python",
   "name": "python",
   "nbconvert_exporter": "python",
   "pygments_lexer": "ipython3",
   "version": "3.8.3"
  }
 },
 "nbformat": 4,
 "nbformat_minor": 4
}
